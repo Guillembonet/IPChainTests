{
 "cells": [
  {
   "cell_type": "code",
   "execution_count": 9,
   "metadata": {},
   "outputs": [
    {
     "name": "stdout",
     "output_type": "stream",
     "text": [
      "100000\n",
      "200000\n",
      "300000\n",
      "400000\n",
      "500000\n",
      "600000\n",
      "700000\n",
      "800000\n",
      "900000\n",
      "Total number of ipv4 ips: 2842786508\n"
     ]
    }
   ],
   "source": [
    "import csv\n",
    "import ipaddress\n",
    "\n",
    "valuesDict = {}\n",
    "totalNum = 0\n",
    "index = 0\n",
    "\n",
    "file = open(\"B:/guillem/Downloads/ip2asn-v4.tsv\", 'r')\n",
    "for row in csv.reader(file, delimiter='\\t'):\n",
    "    if row[2] != '0':\n",
    "        startIp = ipaddress.ip_address(unicode(row[0]))\n",
    "        endIp = ipaddress.ip_address(unicode(row[1]))\n",
    "        ipCount = int(endIp)-int(startIp)+1\n",
    "        totalNum += ipCount\n",
    "        if row[2] not in valuesDict:\n",
    "            valuesDict[row[2]] = ipCount\n",
    "        else:\n",
    "            valuesDict[row[2]] += ipCount\n",
    "    index += 1\n",
    "    if index%100000 == 0:\n",
    "        print(index)\n",
    "file.close()\n",
    "print('Total number of ipv4 ips: ' + str(totalNum))"
   ]
  },
  {
   "cell_type": "code",
   "execution_count": 11,
   "metadata": {},
   "outputs": [
    {
     "name": "stdout",
     "output_type": "stream",
     "text": [
      "{'BD': 'APNIC', 'BE': 'RIPE NCC', 'BF': 'AFRINIC', 'BG': 'RIPE NCC', 'BA': 'RIPE NCC', 'BB': 'ARIN', 'WF': 'APNIC', 'BL': 'ARIN', 'BM': 'ARIN', 'BN': 'APNIC', 'BO': 'LACNIC', 'BH': 'RIPE NCC', 'BI': 'AFRINIC', 'BJ': 'AFRINIC', 'BT': 'APNIC', 'JM': 'ARIN', 'BV': 'ARIN', 'BW': 'AFRINIC', 'WS': 'APNIC', 'BQ': 'LACNIC', 'BR': 'LACNIC', 'BS': 'ARIN', 'JE': 'RIPE NCC', 'BY': 'RIPE NCC', 'BZ': 'LACNIC', 'RU': 'RIPE NCC', 'RW': 'AFRINIC', 'RS': 'RIPE NCC', 'TL': 'APNIC', 'RE': 'AFRINIC', 'TM': 'RIPE NCC', 'TJ': 'RIPE NCC', 'RO': 'RIPE NCC', 'TK': 'APNIC', 'GW': 'AFRINIC', 'GU': 'APNIC', 'GT': 'LACNIC', 'GS': 'LACNIC', 'GR': 'RIPE NCC', 'GQ': 'AFRINIC', 'GP': 'ARIN', 'JP': 'APNIC', 'GY': 'LACNIC', 'GG': 'RIPE NCC', 'GF': 'LACNIC', 'GE': 'RIPE NCC', 'GD': 'ARIN', 'GB': 'RIPE NCC', 'GA': 'AFRINIC', 'GN': 'AFRINIC', 'GM': 'AFRINIC', 'GL': 'RIPE NCC', 'GI': 'RIPE NCC', 'GH': 'AFRINIC', 'OM': 'RIPE NCC', 'TN': 'AFRINIC', 'JO': 'RIPE NCC', 'HR': 'RIPE NCC', 'HT': 'LACNIC', 'HU': 'RIPE NCC', 'HK': 'APNIC', 'HN': 'LACNIC', 'HM': 'ARIN', 'VE': 'LACNIC', 'PR': 'ARIN', 'PS': 'RIPE NCC', 'PW': 'APNIC', 'PT': 'RIPE NCC', 'KN': 'ARIN', 'PY': 'LACNIC', 'IQ': 'RIPE NCC', 'PA': 'LACNIC', 'PF': 'APNIC', 'PG': 'APNIC', 'PE': 'LACNIC', 'PK': 'APNIC', 'PH': 'APNIC', 'PN': 'APNIC', 'PL': 'RIPE NCC', 'PM': 'ARIN', 'ZM': 'AFRINIC', 'EH': 'AFRINIC', 'EE': 'RIPE NCC', 'EG': 'AFRINIC', 'ZA': 'AFRINIC', 'EC': 'LACNIC', 'IT': 'RIPE NCC', 'VN': 'APNIC', 'SB': 'APNIC', 'ET': 'AFRINIC', 'SO': 'AFRINIC', 'ZW': 'AFRINIC', 'SA': 'RIPE NCC', 'ES': 'RIPE NCC', 'ER': 'AFRINIC', 'ME': 'RIPE NCC', 'MD': 'RIPE NCC', 'MG': 'AFRINIC', 'MF': 'ARIN', 'MA': 'AFRINIC', 'MC': 'RIPE NCC', 'UZ': 'RIPE NCC', 'MM': 'APNIC', 'ML': 'AFRINIC', 'MO': 'APNIC', 'MN': 'APNIC', 'MH': 'APNIC', 'MK': 'RIPE NCC', 'MU': 'AFRINIC', 'MT': 'RIPE NCC', 'MW': 'ARIN', 'MV': 'APNIC', 'MQ': 'ARIN', 'MP': 'APNIC', 'MS': 'ARIN', 'MR': 'AFRINIC', 'IM': 'RIPE NCC', 'UG': 'AFRINIC', 'MY': 'APNIC', 'MX': 'LACNIC', 'IL': 'RIPE NCC', 'FR': 'RIPE NCC', 'AW': 'LACNIC', 'SH': 'ARIN', 'AX': 'RIPE NCC', 'SJ': 'RIPE NCC', 'FI': 'RIPE NCC', 'FJ': 'APNIC', 'FK': 'LACNIC', 'FM': 'APNIC', 'FO': 'RIPE NCC', 'NI': 'LACNIC', 'NL': 'RIPE NCC', 'NO': 'RIPE NCC', 'NA': 'AFRINIC', 'VU': 'APNIC', 'NC': 'APNIC', 'NE': 'AFRINIC', 'NF': 'APNIC', 'NG': 'AFRINIC', 'NZ': 'APNIC', 'NP': 'APNIC', 'NR': 'APNIC', 'NU': 'APNIC', 'CK': 'APNIC', 'CI': 'AFRINIC', 'CH': 'RIPE NCC', 'CO': 'LACNIC', 'CN': 'APNIC', 'CM': 'AFRINIC', 'CL': 'LACNIC', 'CC': 'APNIC', 'CA': 'ARIN', 'CG': 'AFRINIC', 'CF': 'AFRINIC', 'CD': 'AFRINIC', 'CZ': 'RIPE NCC', 'CY': 'RIPE NCC', 'CX': 'APNIC', 'CR': 'LACNIC', 'CW': 'LACNIC', 'CV': 'AFRINIC', 'CU': 'LACNIC', 'SZ': 'AFRINIC', 'SY': 'RIPE NCC', 'SX': 'LACNIC', 'KG': 'RIPE NCC', 'KE': 'AFRINIC', 'SS': 'AFRINIC', 'SR': 'LACNIC', 'KI': 'APNIC', 'KH': 'APNIC', 'SV': 'LACNIC', 'KM': 'AFRINIC', 'ST': 'AFRINIC', 'SK': 'RIPE NCC', 'KR': 'APNIC', 'SI': 'RIPE NCC', 'KP': 'APNIC', 'KW': 'RIPE NCC', 'SN': 'AFRINIC', 'SM': 'RIPE NCC', 'SL': 'AFRINIC', 'SC': 'AFRINIC', 'KZ': 'RIPE NCC', 'KY': 'ARIN', 'SG': 'APNIC', 'SE': 'RIPE NCC', 'SD': 'AFRINIC', 'DO': 'LACNIC', 'DM': 'ARIN', 'DJ': 'AFRINIC', 'DK': 'RIPE NCC', 'VG': 'ARIN', 'DE': 'RIPE NCC', 'YE': 'RIPE NCC', 'DZ': 'AFRINIC', 'US': 'ARIN', 'UY': 'LACNIC', 'YT': 'AFRINIC', 'UM': 'ARIN', 'LB': 'RIPE NCC', 'LC': 'ARIN', 'LA': 'APNIC', 'TV': 'APNIC', 'TW': 'APNIC', 'TT': 'LACNIC', 'TR': 'RIPE NCC', 'LK': 'APNIC', 'LI': 'RIPE NCC', 'LV': 'RIPE NCC', 'TO': 'APNIC', 'LT': 'RIPE NCC', 'LU': 'RIPE NCC', 'LR': 'AFRINIC', 'LS': 'AFRINIC', 'TH': 'APNIC', 'TF': 'APNIC', 'TG': 'AFRINIC', 'TD': 'AFRINIC', 'TC': 'ARIN', 'LY': 'AFRINIC', 'VA': 'RIPE NCC', 'VC': 'ARIN', 'AE': 'RIPE NCC', 'AD': 'RIPE NCC', 'AG': 'ARIN', 'AF': 'APNIC', 'AI': 'ARIN', 'VI': 'ARIN', 'IS': 'RIPE NCC', 'IR': 'RIPE NCC', 'AM': 'RIPE NCC', 'AL': 'RIPE NCC', 'AO': 'AFRINIC', 'AQ': 'ARIN', 'AS': 'APNIC', 'AR': 'LACNIC', 'AU': 'APNIC', 'AT': 'RIPE NCC', 'IO': 'APNIC', 'IN': 'APNIC', 'TZ': 'AFRINIC', 'AZ': 'RIPE NCC', 'IE': 'RIPE NCC', 'ID': 'APNIC', 'UA': 'RIPE NCC', 'QA': 'RIPE NCC', 'MZ': 'AFRINIC'}\n"
     ]
    }
   ],
   "source": [
    "countryToRir = {}\n",
    "\n",
    "file = open(\"B:/guillem/Downloads/convertcsv.csv\", 'r')\n",
    "for line in file:\n",
    "    lineVec = line.split(';')\n",
    "    countryToRir[lineVec[1]] = lineVec[3].split('\\n')[0]\n",
    "print(countryToRir)"
   ]
  },
  {
   "cell_type": "code",
   "execution_count": 30,
   "metadata": {},
   "outputs": [
    {
     "name": "stdout",
     "output_type": "stream",
     "text": [
      "20 out of 147\n",
      "40 out of 147\n",
      "60 out of 147\n",
      "80 out of 147\n",
      "100 out of 147\n",
      "120 out of 147\n",
      "140 out of 147\n",
      "done!\n"
     ]
    }
   ],
   "source": [
    "import json\n",
    "from urllib2 import urlopen\n",
    "\n",
    "ASN_Map = {}\n",
    "\n",
    "numPagesPerOrg = 147;\n",
    "for i in range(1, numPagesPerOrg+1):\n",
    "    contents = json.loads(urlopen( \"http://as-rank.caida.org/api/v1/asns?populate=1&page=\" + str(i)).read());\n",
    "    for item in contents[\"data\"]:\n",
    "        id = ''\n",
    "        if 'id' in item:\n",
    "            id = item['id']\n",
    "        else:\n",
    "            print('Error')\n",
    "        country = ''\n",
    "        if 'country' in item:\n",
    "            country = item['country']\n",
    "            if item['country'] == 'EU':\n",
    "                if not 'country_name' in item or item['country_name'] != 'European Union':\n",
    "                    print(item)\n",
    "        if id != '' and country != '':\n",
    "            ASN_Map[id] = country\n",
    "    if i%20 == 0:\n",
    "        print(str(i) + \" out of \" + str(numPagesPerOrg));\n",
    "print('done!')"
   ]
  },
  {
   "cell_type": "code",
   "execution_count": 31,
   "metadata": {},
   "outputs": [
    {
     "name": "stdout",
     "output_type": "stream",
     "text": [
      "['AT', 'BE', 'BG', 'CY', 'CZ', 'DE', 'DK', 'EE', 'ES', 'FI', 'FR', 'GB', 'GR', 'HR', 'HU', 'IE', 'IT', 'LT', 'LU', 'LV', 'MT', 'NL', 'PO', 'PT', 'RO', 'SE', 'SI', 'SK']\n"
     ]
    }
   ],
   "source": [
    "listEU = []\n",
    "file = open(\"B:/guillem/Downloads/EU_countries.txt\", 'r')\n",
    "for line in file:\n",
    "    listEU.append(line.split('-')[0].split()[0])\n",
    "print(listEU)"
   ]
  },
  {
   "cell_type": "code",
   "execution_count": 32,
   "metadata": {},
   "outputs": [
    {
     "name": "stdout",
     "output_type": "stream",
     "text": [
      "{'LACNIC': 6.003890602396232, 'APNIC': 26.857541108042998, 'ARIN': 37.56584987985316, 'CN': 10.516117026681766, 'unknown': 1.5177573791974672, 'RIPE NCC': 24.684719658870705, 'US': 35.67664589464838, 'UE': 18.860250584811062, 'AFRINIC': 3.3702413716394353}\n"
     ]
    }
   ],
   "source": [
    "RirIPs = {}\n",
    "total = 0\n",
    "US = 0\n",
    "CN = 0\n",
    "UE = 0\n",
    "\n",
    "for asn, ips in valuesDict.items():\n",
    "    if asn in ASN_Map and (ASN_Map[asn] in countryToRir or ASN_Map[asn] == 'EU'):\n",
    "        rir = 'RIPE NCC'\n",
    "        if ASN_Map[asn] in countryToRir:\n",
    "            rir = countryToRir[ASN_Map[asn]]\n",
    "        elif ASN_Map[asn] != 'EU':\n",
    "            print('Error: ' + str(ASN_Map[asn]))\n",
    "        if ASN_Map[asn] == 'CN':\n",
    "            CN += float(ips)\n",
    "        elif ASN_Map[asn] == 'US':\n",
    "            US += float(ips)\n",
    "        elif ASN_Map[asn] == 'EU' or ASN_Map[asn] in listEU:\n",
    "            UE += float(ips)\n",
    "        if rir in RirIPs:\n",
    "            RirIPs[rir] += float(ips)\n",
    "        else:\n",
    "            RirIPs[rir] = float(ips)\n",
    "    else:\n",
    "        if 'unknown' in RirIPs:\n",
    "            RirIPs['unknown'] += float(ips)\n",
    "        else:\n",
    "            RirIPs['unknown'] = float(ips)\n",
    "    total += float(ips)\n",
    "\n",
    "for rir, ips in RirIPs.items():\n",
    "    RirIPs[rir] = ips/total*100\n",
    "    \n",
    "RirIPs['US'] = US/total*100\n",
    "RirIPs['CN'] = CN/total*100\n",
    "RirIPs['UE'] = UE/total*100\n",
    "    \n",
    "print(RirIPs)    \n",
    "\n"
   ]
  }
 ],
 "metadata": {
  "kernelspec": {
   "display_name": "Python 2",
   "language": "python",
   "name": "python2"
  },
  "language_info": {
   "codemirror_mode": {
    "name": "ipython",
    "version": 2
   },
   "file_extension": ".py",
   "mimetype": "text/x-python",
   "name": "python",
   "nbconvert_exporter": "python",
   "pygments_lexer": "ipython2",
   "version": "2.7.15"
  }
 },
 "nbformat": 4,
 "nbformat_minor": 2
}
